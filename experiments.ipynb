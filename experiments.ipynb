{
 "cells": [
  {
   "cell_type": "markdown",
   "metadata": {},
   "source": [
    "# Experiments"
   ]
  },
  {
   "cell_type": "markdown",
   "metadata": {},
   "source": [
    "### Setup"
   ]
  },
  {
   "cell_type": "code",
   "execution_count": null,
   "metadata": {},
   "outputs": [],
   "source": [
    "import numpy as np\n",
    "from histogram_filter.world import Color, TransitionSpecification\n",
    "from histogram_filter.utils import propagate, sense, setup, format_belief\n"
   ]
  },
  {
   "cell_type": "markdown",
   "metadata": {},
   "source": [
    "### Experiment 1: Transitioning = Losing information, increasing entropy"
   ]
  },
  {
   "cell_type": "code",
   "execution_count": null,
   "metadata": {},
   "outputs": [],
   "source": [
    "TRANSITION_PROB = [0.2, 0.8]\n",
    "INITIAL_BELIEF = [0.5, 0, 0.5]\n",
    "\n",
    "my_env = setup(\n",
    "    field=[Color.BLUE, Color.ORANGE, Color.BLUE],\n",
    "    transition=TransitionSpecification(0, TRANSITION_PROB),\n",
    "    correct_measurement_prob=0.9,\n",
    ")\n",
    "print(my_env.grid)\n",
    "\n",
    "print(f\"Transition matrix: \\n{my_env.get_transition_matrix()}\", end=\"\\n\\n\")\n",
    "\n",
    "belief = INITIAL_BELIEF\n",
    "for i in range(20):\n",
    "    belief = propagate(belief, my_env.get_transition_matrix())\n",
    "    print(format_belief(belief))\n"
   ]
  },
  {
   "cell_type": "markdown",
   "metadata": {},
   "source": [
    "### Experiment 2: Sensing = Gaining Information, reducing entropy"
   ]
  },
  {
   "cell_type": "code",
   "execution_count": null,
   "metadata": {},
   "outputs": [],
   "source": [
    "SENSOR_ACC = 0.6\n",
    "INITIAL_BELIEF = [0.5, 0, 0.5]\n",
    "MEASUREMENT = Color.ORANGE\n",
    "\n",
    "y_env = setup(\n",
    "    field=[Color.BLUE, Color.ORANGE, Color.BLUE],\n",
    "    correct_measurement_prob=SENSOR_ACC,\n",
    ")\n",
    "print(my_env.grid)\n",
    "\n",
    "print(f\"Sensor matrix: \\n{my_env.get_sensor_matrix()}\", end=\"\\n\\n\")\n",
    "\n",
    "belief = INITIAL_BELIEF\n",
    "for i in range(10):\n",
    "    belief = sense(belief, MEASUREMENT.value, my_env.get_sensor_matrix())\n",
    "    print(format_belief(belief))"
   ]
  },
  {
   "cell_type": "markdown",
   "metadata": {},
   "source": [
    "### Experiment 3: Known Transitions + correct measurement"
   ]
  },
  {
   "cell_type": "code",
   "execution_count": null,
   "metadata": {},
   "outputs": [],
   "source": [
    "FIELD = [Color.BLUE, Color.ORANGE, Color.BLUE]\n",
    "SENSOR_ACC = 0.1\n",
    "TRANSITION_PROB = [0, 1]\n",
    "INITIAL_BELIEF = np.array([0.2, 0.3, 0.5])\n",
    "\n",
    "my_env = setup(\n",
    "    field=FIELD,\n",
    "    correct_measurement_prob=SENSOR_ACC,\n",
    "    transition=TransitionSpecification(0, TRANSITION_PROB),\n",
    ")\n",
    "\n",
    "print(my_env.grid)\n",
    "\n",
    "\n",
    "belief = INITIAL_BELIEF\n",
    "for i in range(30):\n",
    "    belief = propagate(belief, my_env.get_transition_matrix())\n",
    "    my_env.move()\n",
    "    belief = sense(belief, my_env.grid[my_env.position].value, my_env.get_sensor_matrix())\n",
    "    print(format_belief(belief))"
   ]
  }
 ],
 "metadata": {
  "interpreter": {
   "hash": "4b43dcfb1eb940de8c79dec6c1f0e041123987c8fcfe9e2ce39cf01b654ba777"
  },
  "kernelspec": {
   "display_name": "Python 3.9.5 ('wanko')",
   "language": "python",
   "name": "python3"
  },
  "language_info": {
   "codemirror_mode": {
    "name": "ipython",
    "version": 3
   },
   "file_extension": ".py",
   "mimetype": "text/x-python",
   "name": "python",
   "nbconvert_exporter": "python",
   "pygments_lexer": "ipython3",
   "version": "3.9.5"
  }
 },
 "nbformat": 4,
 "nbformat_minor": 2
}
