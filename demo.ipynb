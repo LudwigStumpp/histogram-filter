{
 "cells": [
  {
   "cell_type": "markdown",
   "metadata": {},
   "source": [
    "# Demo\n"
   ]
  },
  {
   "cell_type": "markdown",
   "metadata": {},
   "source": [
    "### Setup\n"
   ]
  },
  {
   "cell_type": "code",
   "execution_count": null,
   "metadata": {},
   "outputs": [],
   "source": [
    "import numpy as np\n",
    "\n",
    "from histogram_filter.world import Color\n",
    "from histogram_filter.utils import propagate, sense, setup, visualize_belief, format_belief\n"
   ]
  },
  {
   "cell_type": "markdown",
   "metadata": {},
   "source": [
    "### Random Walk\n"
   ]
  },
  {
   "cell_type": "code",
   "execution_count": null,
   "metadata": {},
   "outputs": [],
   "source": [
    "my_env = setup()\n",
    "\n",
    "num_steps = 10\n",
    "for i in range(num_steps):\n",
    "    if i > 0:\n",
    "        my_env.move()\n",
    "    print(f\"Step: {i}\")\n",
    "    print(my_env)\n",
    "    print(f\"Sense: {my_env.sense().name}\", \"\\n\")\n"
   ]
  },
  {
   "cell_type": "markdown",
   "metadata": {},
   "source": [
    "### 1D Histogram Filter, without world interaction\n"
   ]
  },
  {
   "cell_type": "code",
   "execution_count": null,
   "metadata": {},
   "outputs": [],
   "source": [
    "my_env = setup()\n",
    "belief = np.ones(len(my_env.grid)) / len(my_env.grid)\n",
    "transition_matrix = my_env.get_transition_matrix()\n",
    "sensor_matrix = my_env.get_sensor_matrix()\n",
    "measurement_vector = [Color.ORANGE, Color.BLUE, Color.ORANGE]\n",
    "\n",
    "for i, measurement in enumerate(measurement_vector):\n",
    "    if i == 0:\n",
    "        print(\"Grid:\")\n",
    "        print(my_env.grid, \"\\n\")\n",
    "        print(\"Initial belief:\")\n",
    "        print(format_belief(belief), \"\\n\")\n",
    "\n",
    "    print(f\"Step: {i + 1}\")\n",
    "    belief = propagate(belief, transition_matrix)\n",
    "    print(f\"After transition:\")\n",
    "    print(format_belief(belief), \"\\n\")\n",
    "    belief = sense(belief, measurement.value, sensor_matrix)\n",
    "    print(f\"After measurement {measurement.name}:\")\n",
    "\n",
    "    print(format_belief(belief), \"\\n\")\n",
    "    visualize_belief(belief)\n"
   ]
  },
  {
   "cell_type": "markdown",
   "metadata": {},
   "source": [
    "### 1D Histogram Filter with world interaction\n"
   ]
  },
  {
   "cell_type": "code",
   "execution_count": null,
   "metadata": {},
   "outputs": [],
   "source": [
    "my_env = setup()\n",
    "num_steps = 10\n",
    "belief = np.ones(len(my_env.grid)) / len(my_env.grid)\n",
    "transition_matrix = my_env.get_transition_matrix()\n",
    "sensor_matrix = my_env.get_sensor_matrix()\n",
    "\n",
    "for i in range(num_steps):\n",
    "    if i == 0:\n",
    "        print(\"Grid:\")\n",
    "        print(my_env, \"\\n\")\n",
    "\n",
    "        print(f\"Step: {i}\")\n",
    "        print(\"Initial belief:\")\n",
    "        print(format_belief(belief), \"\\n\")\n",
    "        visualize_belief(belief)\n",
    "\n",
    "    print(f\"Step: {i + 1}\")\n",
    "    print(f\"After transition:\")\n",
    "    my_env.move()\n",
    "    print(my_env)\n",
    "    belief = propagate(belief, transition_matrix)\n",
    "    print(format_belief(belief))\n",
    "\n",
    "    measurement = my_env.sense()\n",
    "    print(f\"After measurement {measurement.name}:\")\n",
    "    belief = sense(belief, measurement.value, sensor_matrix)\n",
    "    print(format_belief(belief), \"\\n\")\n",
    "    visualize_belief(belief)\n",
    "    print(\"\\n\")\n"
   ]
  }
 ],
 "metadata": {
  "interpreter": {
   "hash": "9d1a0f5ee93e8ea41525e734c1178b150c3383b451469805b56a05295a9fb3ab"
  },
  "kernelspec": {
   "display_name": "Python 3.9.7 64-bit ('mlcs': venv)",
   "language": "python",
   "name": "python3"
  },
  "language_info": {
   "codemirror_mode": {
    "name": "ipython",
    "version": 3
   },
   "file_extension": ".py",
   "mimetype": "text/x-python",
   "name": "python",
   "nbconvert_exporter": "python",
   "pygments_lexer": "ipython3",
   "version": "3.9.10"
  }
 },
 "nbformat": 4,
 "nbformat_minor": 2
}
